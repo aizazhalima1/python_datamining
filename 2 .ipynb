{
 "cells": [
  {
   "cell_type": "markdown",
   "metadata": {},
   "source": [
    "***Comparison Operators***  \n",
    "\n",
    "A == B     \n",
    "!=   \n",
    "\\>   \n",
    "\\>=    \n",
    "<    \n",
    "<=    "
   ]
  },
  {
   "cell_type": "code",
   "execution_count": null,
   "metadata": {},
   "outputs": [],
   "source": [
    "print(2==2)"
   ]
  },
  {
   "cell_type": "code",
   "execution_count": null,
   "metadata": {},
   "outputs": [],
   "source": [
    "print(2==4)"
   ]
  },
  {
   "cell_type": "code",
   "execution_count": null,
   "metadata": {},
   "outputs": [],
   "source": [
    "print(\"Hello\"==\"Hello\")"
   ]
  },
  {
   "cell_type": "code",
   "execution_count": null,
   "metadata": {},
   "outputs": [],
   "source": [
    "print(\"Hello\"==\"hello\")"
   ]
  },
  {
   "cell_type": "code",
   "execution_count": null,
   "metadata": {},
   "outputs": [],
   "source": [
    "print(2 != 2)"
   ]
  },
  {
   "cell_type": "code",
   "execution_count": null,
   "metadata": {},
   "outputs": [],
   "source": [
    "print (\"Hi\"!='Hi')"
   ]
  },
  {
   "cell_type": "code",
   "execution_count": null,
   "metadata": {},
   "outputs": [],
   "source": [
    "cost_of_apple= 3\n",
    "cost_of_banana=3\n",
    "print(cost_of_apple > cost_of_banana)"
   ]
  },
  {
   "cell_type": "code",
   "execution_count": null,
   "metadata": {},
   "outputs": [],
   "source": [
    "cost_of_apple= 3\n",
    "cost_of_banana=3\n",
    "print(cost_of_apple >= cost_of_banana)"
   ]
  },
  {
   "cell_type": "markdown",
   "metadata": {},
   "source": [
    "***Conditional Statement***\n",
    "\n",
    "if condition:\n",
    "> print (\"statement\")\n",
    "\n",
    "in this example, only if the condition is true, the print function will be executed.  \n",
    "if the condition is not true, nothing will be returned.\n",
    "\n",
    "Remember to add a colon : after the condition  \n",
    "The indentation is important for Python to know the structure of the code\n"
   ]
  },
  {
   "cell_type": "code",
   "execution_count": 10,
   "metadata": {},
   "outputs": [
    {
     "name": "stdout",
     "output_type": "stream",
     "text": [
      "You are an adault.\n"
     ]
    }
   ],
   "source": [
    "age= 22\n",
    "if age>18:\n",
    "    print(\"You are an adault.\")"
   ]
  },
  {
   "cell_type": "code",
   "execution_count": 13,
   "metadata": {},
   "outputs": [],
   "source": [
    "age= 17\n",
    "if age>18:\n",
    "    print(\"You are an adault.\")"
   ]
  },
  {
   "cell_type": "code",
   "execution_count": 12,
   "metadata": {},
   "outputs": [
    {
     "name": "stdout",
     "output_type": "stream",
     "text": [
      "17\n"
     ]
    }
   ],
   "source": [
    "if age>10:\n",
    "        print (age)\n",
    "\n",
    " # you can use tab or space for the indentation, as long as you are consistent. \n",
    " # Python usually automatically uses 4 spaces for each indentation level"
   ]
  },
  {
   "cell_type": "code",
   "execution_count": 15,
   "metadata": {},
   "outputs": [
    {
     "name": "stdout",
     "output_type": "stream",
     "text": [
      "You are not an adault.\n"
     ]
    }
   ],
   "source": [
    "if age>18:\n",
    "    print (\"You are an adault.\")\n",
    "else:\n",
    "    print (\"You are not an adault.\")"
   ]
  },
  {
   "cell_type": "markdown",
   "metadata": {},
   "source": [
    "if  condition 1:  \n",
    "elif  condition 2:  \n",
    "else  \n"
   ]
  },
  {
   "cell_type": "code",
   "execution_count": 16,
   "metadata": {},
   "outputs": [
    {
     "name": "stdout",
     "output_type": "stream",
     "text": [
      "You are an adault.\n"
     ]
    }
   ],
   "source": [
    "age=20\n",
    "if age>18:\n",
    "    print (\"You are an adault.\")\n",
    "elif age>13:\n",
    "    print (\"You are a teenager.\")\n",
    "else:\n",
    "    print( \"You are a child.\")\n",
    "\n",
    "# The program stops checking conditions once it finds the first True condition."
   ]
  },
  {
   "cell_type": "code",
   "execution_count": 14,
   "metadata": {},
   "outputs": [
    {
     "name": "stdout",
     "output_type": "stream",
     "text": [
      "You are a teenager.\n"
     ]
    }
   ],
   "source": [
    "age =17\n",
    "\n",
    "if age>18:\n",
    "    print (\"You are an adault.\")\n",
    "elif age>13:\n",
    "    print (\"You are a teenager.\")\n",
    "else:\n",
    "    print( \"You are a child.\")\n",
    "\n"
   ]
  },
  {
   "cell_type": "markdown",
   "metadata": {},
   "source": [
    "A movie theater has different ticket prices based on age.   \n",
    "Write a program that determines the ticket price using these rules:\n",
    "\n",
    "Seniors (65 and older) pay $8  \n",
    "Adults (18-64) pay $12  \n",
    "Teens (13-17) pay $10  \n",
    "Children (12 and under) pay $6  \n",
    "Create a program that takes an age and prints the appropriate ticket price."
   ]
  },
  {
   "cell_type": "code",
   "execution_count": 17,
   "metadata": {},
   "outputs": [
    {
     "name": "stdout",
     "output_type": "stream",
     "text": [
      "Adult ticket price: $12\n"
     ]
    }
   ],
   "source": [
    "age = 25\n",
    "if age >= 65:\n",
    "    print(\"Senior ticket price: $8\")\n",
    "elif age >= 18:\n",
    "    print(\"Adult ticket price: $12\")\n",
    "elif age >= 13:\n",
    "    print(\"Teen ticket price: $10\")\n",
    "else:\n",
    "    print(\"Child ticket price: $6\")"
   ]
  },
  {
   "cell_type": "markdown",
   "metadata": {},
   "source": [
    "Practice:  \n",
    "A local sports club needs to assign players to different leagues based on their age.   \n",
    "Create a program that assigns players using these rules:  \n",
    "\n",
    "Age 20 and above: Senior League  \n",
    "Age 16-19: Junior League  \n",
    "Age 12-15: Youth League  \n",
    "Under 12: Kids League  \n",
    "Write code that takes a player's age and prints which league they should join.\n"
   ]
  },
  {
   "cell_type": "code",
   "execution_count": 18,
   "metadata": {},
   "outputs": [
    {
     "name": "stdout",
     "output_type": "stream",
     "text": [
      "Youth League\n"
     ]
    }
   ],
   "source": [
    "age=13\n",
    "if age>=20:\n",
    "    print('Senior League')\n",
    "elif age>=16:\n",
    "    print('Junior League')\n",
    "elif age>=12:\n",
    "    print('Youth League')\n",
    "else:\n",
    "    print('Kids League')\n"
   ]
  },
  {
   "cell_type": "markdown",
   "metadata": {},
   "source": [
    "While condition:  \n",
    "Allows you to execute code as long as condition is true"
   ]
  },
  {
   "cell_type": "code",
   "execution_count": 19,
   "metadata": {},
   "outputs": [
    {
     "name": "stdout",
     "output_type": "stream",
     "text": [
      "1\n",
      "2\n",
      "3\n",
      "4\n"
     ]
    }
   ],
   "source": [
    "num=1\n",
    "while num<5:\n",
    "    print (num)\n",
    "    num+=1\n"
   ]
  },
  {
   "cell_type": "code",
   "execution_count": 20,
   "metadata": {},
   "outputs": [
    {
     "name": "stdout",
     "output_type": "stream",
     "text": [
      "1\n",
      "2\n",
      "3\n",
      "4\n",
      "the loop is done !\n"
     ]
    }
   ],
   "source": [
    "num=1\n",
    "while num<5:\n",
    "    print (num)\n",
    "    num +=1\n",
    "else:\n",
    "    print(\"the loop is done !\")"
   ]
  },
  {
   "cell_type": "markdown",
   "metadata": {},
   "source": [
    "Practice: Write a Python program that starts with a variable count = 5 and decreases it by 1 in each iteration using a while loop. The loop should run until count reaches 0. When the loop is done, print \"Countdown complete!\" using an else block."
   ]
  },
  {
   "cell_type": "code",
   "execution_count": 23,
   "metadata": {},
   "outputs": [
    {
     "name": "stdout",
     "output_type": "stream",
     "text": [
      "5\n",
      "4\n",
      "3\n",
      "2\n",
      "1\n",
      "Countdown complete\n"
     ]
    }
   ],
   "source": [
    "count=5\n",
    "while count>0:\n",
    "    print(count)\n",
    "    count -=1\n",
    "else:\n",
    "    print('Countdown complete')"
   ]
  },
  {
   "cell_type": "markdown",
   "metadata": {},
   "source": [
    "for ... in ...:  \n",
    "  \n",
    "    \n",
    "      \n",
    "\n"
   ]
  },
  {
   "cell_type": "code",
   "execution_count": 24,
   "metadata": {},
   "outputs": [
    {
     "name": "stdout",
     "output_type": "stream",
     "text": [
      "i is: 0\n",
      "i is: 1\n",
      "i is: 2\n",
      "i is: 3\n",
      "i is: 4\n"
     ]
    }
   ],
   "source": [
    "for i in range (5):\n",
    "    print(\"i is:\", i)\n",
    "\n",
    "#The range(5) function generates numbers from 0 to 4 (not including 5).\n",
    "#The variable i takes each value from the range one at a time in each loop iteration."
   ]
  },
  {
   "cell_type": "code",
   "execution_count": 25,
   "metadata": {},
   "outputs": [
    {
     "name": "stdout",
     "output_type": "stream",
     "text": [
      "i is: 2\n",
      "i is: 3\n",
      "i is: 4\n"
     ]
    }
   ],
   "source": [
    "for i in range (2,5):\n",
    "    print(\"i is:\", i)\n",
    "\n",
    "# you can also secify a starting point for range."
   ]
  },
  {
   "cell_type": "markdown",
   "metadata": {},
   "source": [
    "Practice: Write a program that prints the square of numbers from 1 to 5 using a for loop."
   ]
  },
  {
   "cell_type": "code",
   "execution_count": 27,
   "metadata": {},
   "outputs": [
    {
     "name": "stdout",
     "output_type": "stream",
     "text": [
      "1\n",
      "4\n",
      "9\n",
      "16\n",
      "25\n"
     ]
    }
   ],
   "source": [
    "for i in range(1,6):\n",
    "    print(i**2)"
   ]
  },
  {
   "cell_type": "code",
   "execution_count": 29,
   "metadata": {},
   "outputs": [
    {
     "name": "stdout",
     "output_type": "stream",
     "text": [
      "Checking: 1\n",
      "Checking: 2\n",
      "First even number found: 2\n",
      "Loop stopped after finding the first even number\n"
     ]
    }
   ],
   "source": [
    "# you can insert a if condition to break the loop\n",
    "\n",
    "for i in range(1, 11):  # Loop from 1 to 10\n",
    "    print(\"Checking:\", i)\n",
    "    \n",
    "    if i % 2 == 0:  # If i is even\n",
    "        print(\"First even number found:\", i)\n",
    "        break  # Stop the loop\n",
    "\n",
    "print(\"Loop stopped after finding the first even number\")"
   ]
  },
  {
   "cell_type": "markdown",
   "metadata": {},
   "source": [
    "***Operators***\n",
    "\n",
    "condition 1 and condition 2 → Both conditions must be true for the result to be true. If either one (or both) is false, the result is false.  \n",
    "condition 1 or condition 2 → At least one of the conditions must be true for the result to be true. The result is false only if both conditions are false.\n"
   ]
  },
  {
   "cell_type": "code",
   "execution_count": 31,
   "metadata": {},
   "outputs": [
    {
     "name": "stdout",
     "output_type": "stream",
     "text": [
      "Only one can come in.\n"
     ]
    }
   ],
   "source": [
    "age1= 17 \n",
    "age2= 20  \n",
    "if (age1>18 and age2>18):\n",
    "    print (\"pelase come in!\")\n",
    "elif (age1>18 or age2>18):\n",
    "    print (\"Only one can come in.\")\n",
    "else:\n",
    "    print (\"no one can come in.\")\n"
   ]
  },
  {
   "cell_type": "code",
   "execution_count": 33,
   "metadata": {},
   "outputs": [
    {
     "name": "stdout",
     "output_type": "stream",
     "text": [
      "One qualifies\n"
     ]
    }
   ],
   "source": [
    "#practice: You are checking whether two students qualify for a special scholarship. The conditions are:\n",
    "#Both students must have a GPA above 3.5 to qualify together.\n",
    "#If at least one student has a GPA above 3.5, only that student qualifies.\n",
    "#If neither student has a GPA above 3.5, neither qualifies.\n",
    "\n",
    "st1=2\n",
    "st2=3.7\n",
    "if(st1>3.5 and st2>3.5):\n",
    "    print('Both qualify')\n",
    "elif(st1>3.5 or st2>3.5):\n",
    "    print('One qualifies')\n",
    "else:\n",
    "    print('neither qualifies')\n"
   ]
  }
 ],
 "metadata": {
  "kernelspec": {
   "display_name": "Python 3",
   "language": "python",
   "name": "python3"
  },
  "language_info": {
   "codemirror_mode": {
    "name": "ipython",
    "version": 3
   },
   "file_extension": ".py",
   "mimetype": "text/x-python",
   "name": "python",
   "nbconvert_exporter": "python",
   "pygments_lexer": "ipython3",
   "version": "3.13.1"
  }
 },
 "nbformat": 4,
 "nbformat_minor": 2
}
