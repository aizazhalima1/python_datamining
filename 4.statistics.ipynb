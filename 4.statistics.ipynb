{
 "cells": [
  {
   "cell_type": "code",
   "execution_count": 4,
   "metadata": {},
   "outputs": [
    {
     "name": "stdout",
     "output_type": "stream",
     "text": [
      "Collecting numpyNote: you may need to restart the kernel to use updated packages.\n",
      "\n",
      "  Downloading numpy-2.2.2-cp313-cp313-win_amd64.whl.metadata (60 kB)\n",
      "Downloading numpy-2.2.2-cp313-cp313-win_amd64.whl (12.6 MB)\n",
      "   ---------------------------------------- 0.0/12.6 MB ? eta -:--:--\n",
      "   ---- ----------------------------------- 1.3/12.6 MB 6.5 MB/s eta 0:00:02\n",
      "   -------- ------------------------------- 2.6/12.6 MB 6.9 MB/s eta 0:00:02\n",
      "   ------------- -------------------------- 4.2/12.6 MB 7.3 MB/s eta 0:00:02\n",
      "   ------------------- -------------------- 6.0/12.6 MB 7.4 MB/s eta 0:00:01\n",
      "   ------------------------ --------------- 7.6/12.6 MB 7.6 MB/s eta 0:00:01\n",
      "   ---------------------------- ----------- 8.9/12.6 MB 7.3 MB/s eta 0:00:01\n",
      "   ------------------------------- -------- 10.0/12.6 MB 6.8 MB/s eta 0:00:01\n",
      "   ----------------------------------- ---- 11.3/12.6 MB 6.9 MB/s eta 0:00:01\n",
      "   ---------------------------------------  12.6/12.6 MB 6.8 MB/s eta 0:00:01\n",
      "   ---------------------------------------- 12.6/12.6 MB 6.6 MB/s eta 0:00:00\n",
      "Installing collected packages: numpy\n",
      "Successfully installed numpy-2.2.2\n"
     ]
    },
    {
     "name": "stderr",
     "output_type": "stream",
     "text": [
      "\n",
      "[notice] A new release of pip is available: 24.3.1 -> 25.0.1\n",
      "[notice] To update, run: python.exe -m pip install --upgrade pip\n"
     ]
    },
    {
     "name": "stdout",
     "output_type": "stream",
     "text": [
      "Collecting matplotlib\n",
      "  Downloading matplotlib-3.10.0-cp313-cp313-win_amd64.whl.metadata (11 kB)\n",
      "Collecting contourpy>=1.0.1 (from matplotlib)\n",
      "  Downloading contourpy-1.3.1-cp313-cp313-win_amd64.whl.metadata (5.4 kB)\n",
      "Collecting cycler>=0.10 (from matplotlib)\n",
      "  Downloading cycler-0.12.1-py3-none-any.whl.metadata (3.8 kB)\n",
      "Collecting fonttools>=4.22.0 (from matplotlib)\n",
      "  Downloading fonttools-4.56.0-cp313-cp313-win_amd64.whl.metadata (103 kB)\n",
      "Collecting kiwisolver>=1.3.1 (from matplotlib)\n",
      "  Downloading kiwisolver-1.4.8-cp313-cp313-win_amd64.whl.metadata (6.3 kB)\n",
      "Requirement already satisfied: numpy>=1.23 in c:\\users\\halim\\onedrive\\documents\\halima's folder\\stony brook\\data-mining\\statistics\\datamining\\lib\\site-packages (from matplotlib) (2.2.2)\n",
      "Requirement already satisfied: packaging>=20.0 in c:\\users\\halim\\onedrive\\documents\\halima's folder\\stony brook\\data-mining\\statistics\\datamining\\lib\\site-packages (from matplotlib) (24.2)\n",
      "Collecting pillow>=8 (from matplotlib)\n",
      "  Downloading pillow-11.1.0-cp313-cp313-win_amd64.whl.metadata (9.3 kB)\n",
      "Collecting pyparsing>=2.3.1 (from matplotlib)\n",
      "  Downloading pyparsing-3.2.1-py3-none-any.whl.metadata (5.0 kB)\n",
      "Requirement already satisfied: python-dateutil>=2.7 in c:\\users\\halim\\onedrive\\documents\\halima's folder\\stony brook\\data-mining\\statistics\\datamining\\lib\\site-packages (from matplotlib) (2.9.0.post0)\n",
      "Requirement already satisfied: six>=1.5 in c:\\users\\halim\\onedrive\\documents\\halima's folder\\stony brook\\data-mining\\statistics\\datamining\\lib\\site-packages (from python-dateutil>=2.7->matplotlib) (1.17.0)\n",
      "Downloading matplotlib-3.10.0-cp313-cp313-win_amd64.whl (8.0 MB)\n",
      "   ---------------------------------------- 0.0/8.0 MB ? eta -:--:--\n",
      "   --------- ------------------------------ 1.8/8.0 MB 9.8 MB/s eta 0:00:01\n",
      "   ------------------- -------------------- 3.9/8.0 MB 9.8 MB/s eta 0:00:01\n",
      "   ------------------------------ --------- 6.0/8.0 MB 9.9 MB/s eta 0:00:01\n",
      "   ---------------------------------------  7.9/8.0 MB 10.0 MB/s eta 0:00:01\n",
      "   ---------------------------------------- 8.0/8.0 MB 9.6 MB/s eta 0:00:00\n",
      "Downloading contourpy-1.3.1-cp313-cp313-win_amd64.whl (220 kB)\n",
      "Downloading cycler-0.12.1-py3-none-any.whl (8.3 kB)\n",
      "Downloading fonttools-4.56.0-cp313-cp313-win_amd64.whl (2.2 MB)\n",
      "   ---------------------------------------- 0.0/2.2 MB ? eta -:--:--\n",
      "   ---------------------------------------- 2.2/2.2 MB 10.5 MB/s eta 0:00:00\n",
      "Downloading kiwisolver-1.4.8-cp313-cp313-win_amd64.whl (71 kB)\n",
      "Downloading pillow-11.1.0-cp313-cp313-win_amd64.whl (2.6 MB)\n",
      "   ---------------------------------------- 0.0/2.6 MB ? eta -:--:--\n",
      "   ------------------------------- -------- 2.1/2.6 MB 9.4 MB/s eta 0:00:01\n",
      "   ---------------------------------------- 2.6/2.6 MB 9.2 MB/s eta 0:00:00\n",
      "Downloading pyparsing-3.2.1-py3-none-any.whl (107 kB)\n",
      "Installing collected packages: pyparsing, pillow, kiwisolver, fonttools, cycler, contourpy, matplotlib\n",
      "Successfully installed contourpy-1.3.1 cycler-0.12.1 fonttools-4.56.0 kiwisolver-1.4.8 matplotlib-3.10.0 pillow-11.1.0 pyparsing-3.2.1\n",
      "Note: you may need to restart the kernel to use updated packages.\n"
     ]
    },
    {
     "name": "stderr",
     "output_type": "stream",
     "text": [
      "\n",
      "[notice] A new release of pip is available: 24.3.1 -> 25.0.1\n",
      "[notice] To update, run: python.exe -m pip install --upgrade pip\n"
     ]
    }
   ],
   "source": [
    " %pip install numpy   \n",
    " %pip install matplotlib\n",
    "\n",
    "# you only need to run the above lines once to install packages in your environment\n",
    "# you will not need to run this again in the future in the same enviroment "
   ]
  },
  {
   "cell_type": "code",
   "execution_count": 6,
   "metadata": {},
   "outputs": [],
   "source": [
    "# you need to import packages when you reopen the script\n",
    "import numpy as np   \n",
    "import matplotlib.pyplot as plt "
   ]
  },
  {
   "cell_type": "markdown",
   "metadata": {},
   "source": [
    "**Mean Median SD Variance**"
   ]
  },
  {
   "cell_type": "code",
   "execution_count": 21,
   "metadata": {},
   "outputs": [
    {
     "data": {
      "text/plain": [
       "np.float64(92000.0)"
      ]
     },
     "execution_count": 21,
     "metadata": {},
     "output_type": "execute_result"
    }
   ],
   "source": [
    "incomes = [100000, 200000, 50000, 50000, 60000]\n",
    "np.mean(incomes)"
   ]
  },
  {
   "cell_type": "code",
   "execution_count": 8,
   "metadata": {},
   "outputs": [
    {
     "name": "stdout",
     "output_type": "stream",
     "text": [
      "92000.0\n"
     ]
    }
   ],
   "source": [
    "print(np.mean(incomes))"
   ]
  },
  {
   "cell_type": "code",
   "execution_count": 9,
   "metadata": {},
   "outputs": [
    {
     "data": {
      "text/plain": [
       "np.float64(60000.0)"
      ]
     },
     "execution_count": 9,
     "metadata": {},
     "output_type": "execute_result"
    }
   ],
   "source": [
    "np.median(incomes)"
   ]
  },
  {
   "cell_type": "code",
   "execution_count": 10,
   "metadata": {},
   "outputs": [
    {
     "data": {
      "text/plain": [
       "np.float64(57061.37047074842)"
      ]
     },
     "execution_count": 10,
     "metadata": {},
     "output_type": "execute_result"
    }
   ],
   "source": [
    "np.std(incomes)"
   ]
  },
  {
   "cell_type": "code",
   "execution_count": 11,
   "metadata": {},
   "outputs": [
    {
     "data": {
      "text/plain": [
       "np.float64(3256000000.0)"
      ]
     },
     "execution_count": 11,
     "metadata": {},
     "output_type": "execute_result"
    }
   ],
   "source": [
    "np.var(incomes)"
   ]
  },
  {
   "cell_type": "markdown",
   "metadata": {},
   "source": [
    "Practice: generate the mean, median, sd, variance of incomes2"
   ]
  },
  {
   "cell_type": "code",
   "execution_count": 17,
   "metadata": {},
   "outputs": [
    {
     "name": "stdout",
     "output_type": "stream",
     "text": [
      "[100000, 200000, 50000, 50000, 60000, 1000000000]\n",
      "166743333.33333334\n",
      "80000.0\n",
      "372643713.5149635\n",
      "1.388633372222222e+17\n"
     ]
    }
   ],
   "source": [
    "incomes2=incomes+[1000000000]\n",
    "print(incomes2)\n",
    "print(np.mean(incomes2))\n",
    "print(np.median(incomes2))\n",
    "print(np.std(incomes2))\n",
    "print(np.var(incomes2))"
   ]
  },
  {
   "cell_type": "markdown",
   "metadata": {},
   "source": [
    "**Histogram and Scatter Plot**"
   ]
  },
  {
   "cell_type": "code",
   "execution_count": 18,
   "metadata": {},
   "outputs": [
    {
     "name": "stdout",
     "output_type": "stream",
     "text": [
      "[ 9.4044362   9.83738775  9.96306948  9.66085339 10.84728135  7.47507056\n",
      " 10.13883697  9.36373828 10.7566561  11.92433165  8.9606587  12.69315647\n",
      "  9.49920232 11.32975123 10.64108392 13.38761279  9.80682105  9.30715314\n",
      " 12.30019195  9.61318788 10.35154259  9.05319321  8.99182435 10.25129009\n",
      "  9.89812311  5.36103806 11.26069983 12.96272678 11.22233272  7.18528865\n",
      "  6.02043655 10.40135932  9.45922294  7.63923609 10.78384275 11.28663414\n",
      "  6.54711729  8.99429667 10.12125237 14.37929316 10.38427519 14.13982959\n",
      "  7.75857955  8.93637778  9.88167691 12.31124483  8.88527231  9.1488729\n",
      "  7.1667202  12.74544656]\n",
      "[3.61187236 6.27068261 5.05752638 4.73648263 3.59290897 5.58821049\n",
      " 5.73092174 6.54704486 3.12027082 4.84037835 4.82956395 4.28229076\n",
      " 5.90147458 4.55229572 4.59066239 3.90752646 3.44282256 5.49272522\n",
      " 5.04654966 4.44181882 4.23428901 6.04429625 5.39350378 3.40478643\n",
      " 5.46242762 5.50013782 5.08519015 6.15324247 4.45978525 4.86632349\n",
      " 4.21582525 6.98975545 4.46876108 5.25923811 5.38750411 5.84553911\n",
      " 3.02821594 5.1923547  5.47535298 4.13617758 4.22892366 6.12029909\n",
      " 4.43080164 6.05274979 4.83285062 5.33695009 4.28716344 2.72360742\n",
      " 4.8836762  3.74353776]\n"
     ]
    },
    {
     "data": {
      "image/png": "[encoded data removed]",
      "text/plain": [
       "<Figure size 640x480 with 1 Axes>"
      ]
     },
     "metadata": {},
     "output_type": "display_data"
    },
    {
     "data": {
      "image/png": "[encoded data removed]",
      "text/plain": [
       "<Figure size 640x480 with 1 Axes>"
      ]
     },
     "metadata": {},
     "output_type": "display_data"
    }
   ],
   "source": [
    "x=np.random.normal(10,2,50) # generate 50 random numbers, mean=10, sd=2\n",
    "y=np.random.normal(5,1,50) # generate 50 random numbers, mean=5, sd=1\n",
    "print(x)\n",
    "print(y)\n",
    "plt.hist(x) #generate a histogram of x\n",
    "plt.show()  #show the plot \n",
    "plt.hist(y) #generate a histogram of y\n",
    "plt.show()"
   ]
  },
  {
   "cell_type": "code",
   "execution_count": 19,
   "metadata": {},
   "outputs": [
    {
     "data": {
      "image/png": "[encoded data removed]",
      "text/plain": [
       "<Figure size 640x480 with 1 Axes>"
      ]
     },
     "metadata": {},
     "output_type": "display_data"
    }
   ],
   "source": [
    "plt.scatter(x,y) #generate a scatter plot of x and y\n",
    "plt.show()"
   ]
  },
  {
   "cell_type": "markdown",
   "metadata": {},
   "source": [
    "***Figure Formatting***"
   ]
  },
  {
   "cell_type": "code",
   "execution_count": 20,
   "metadata": {},
   "outputs": [
    {
     "data": {
      "image/png": "[encoded data removed]",
      "text/plain": [
       "<Figure size 640x480 with 1 Axes>"
      ]
     },
     "metadata": {},
     "output_type": "display_data"
    }
   ],
   "source": [
    "salary=np.random.normal(50000,10000,1000) # 1000 random salaries mean=50k sd=10k \n",
    "\n",
    "plt.hist(salary, 100) #histogram with 100 bins\n",
    "\n",
    "# Customizing axis range\n",
    "plt.xlim(0, 100000)  # Set X-axis range \n",
    "plt.ylim(0, 50)  # Set Y-axis range \n",
    "\n",
    "# Customizing axis ticks\n",
    "plt.xticks(np.arange(0, 100000, 10000))  # Every 10000 units on X-axis\n",
    "plt.yticks(np.arange(0, 51, 5))  # Every 5 units on Y-axis\n",
    "\n",
    "# Customizing titles \n",
    "plt.xlabel(\"Income\")\n",
    "plt.ylabel(\"Frequency\")\n",
    "plt.title(\"Income Distribution\")\n",
    "plt.show()"
   ]
  },
  {
   "cell_type": "markdown",
   "metadata": {},
   "source": [
    "In-Class Exercise:\n",
    "\n",
    "Generate two variables with random numbers following normal distributions    \n",
    "(e.g., coffee consumption vs. grades).  \n",
    "\n",
    "Plot a scatter plot.  \n",
    "Customize the axis ranges, axis ticks, axis labels, and figure title.   \n",
    "\n",
    "Submission:\n",
    "Right click on the figure and \"copy cell output\", paste it into a word doc.   \n",
    "Submit the figure in a word or pdf file. "
   ]
  },
  {
   "cell_type": "code",
   "execution_count": 35,
   "metadata": {},
   "outputs": [
    {
     "data": {
      "image/png": "[encoded data removed]",
      "text/plain": [
       "<Figure size 640x480 with 1 Axes>"
      ]
     },
     "metadata": {},
     "output_type": "display_data"
    }
   ],
   "source": [
    "grades=np.random.normal(75,10,100) \n",
    "coffee_consumption=np.random.normal(3,1,100)\n",
    "\n",
    "\n",
    "plt.scatter(coffee_consumption, grades)\n",
    "\n",
    "# Customizing axis range\n",
    "plt.xlim(min(coffee_consumption) - 1, max(coffee_consumption) + 1)  \n",
    "plt.ylim(min(grades) - 10, max(grades) + 10)\n",
    "\n",
    "# Customizing axis ticks\n",
    "plt.xticks(np.arange(0, 6, 1))  \n",
    "plt.yticks(np.arange(0, 101, 10)) \n",
    "\n",
    "# Customizing titles \n",
    "plt.xlabel(\"Coffee Consumption\")\n",
    "plt.ylabel(\"Grades\")\n",
    "plt.title(\"Scatter Plot for Grades versus Coffee Consumption\")\n",
    "plt.show()"
   ]
  }
 ],
 "metadata": {
  "kernelspec": {
   "display_name": "datamining",
   "language": "python",
   "name": "python3"
  },
  "language_info": {
   "codemirror_mode": {
    "name": "ipython",
    "version": 3
   },
   "file_extension": ".py",
   "mimetype": "text/x-python",
   "name": "python",
   "nbconvert_exporter": "python",
   "pygments_lexer": "ipython3",
   "version": "3.13.1"
  }
 },
 "nbformat": 4,
 "nbformat_minor": 2
}
