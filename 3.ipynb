{
 "cells": [
  {
   "cell_type": "code",
   "execution_count": 1,
   "metadata": {},
   "outputs": [],
   "source": [
    "# delete all variables im memory \n",
    "%reset -f"
   ]
  },
  {
   "cell_type": "markdown",
   "metadata": {},
   "source": [
    "***list***  \n",
    "countries = [\"USA\",\"Canada\",\"Australia\",\"China\"]  \n",
    "0  \"USA\"  \n",
    "1  \"Canada\"  \n",
    "2  \"Australia\"  \n",
    "3  \"China\"  \n"
   ]
  },
  {
   "cell_type": "code",
   "execution_count": 2,
   "metadata": {},
   "outputs": [],
   "source": [
    "countries = [\"USA\",\"Canada\",\"Australia\",\"China\"]\n",
    "\n",
    "#list can be found in jupyter variables as well "
   ]
  },
  {
   "cell_type": "code",
   "execution_count": 3,
   "metadata": {},
   "outputs": [
    {
     "data": {
      "text/plain": [
       "'USA'"
      ]
     },
     "execution_count": 3,
     "metadata": {},
     "output_type": "execute_result"
    }
   ],
   "source": [
    "countries[0]"
   ]
  },
  {
   "cell_type": "code",
   "execution_count": 4,
   "metadata": {},
   "outputs": [
    {
     "name": "stdout",
     "output_type": "stream",
     "text": [
      "['USA', 'Canada', 'Australia', 'China']\n",
      "['UK', 'Canada', 'Australia', 'China']\n"
     ]
    }
   ],
   "source": [
    "# you can update the value of a list\n",
    "print(countries)\n",
    "countries[0]=\"UK\"\n",
    "print(countries)"
   ]
  },
  {
   "cell_type": "code",
   "execution_count": 5,
   "metadata": {},
   "outputs": [
    {
     "data": {
      "text/plain": [
       "4"
      ]
     },
     "execution_count": 5,
     "metadata": {},
     "output_type": "execute_result"
    }
   ],
   "source": [
    "len(countries) # len prints out the length of the list"
   ]
  },
  {
   "cell_type": "code",
   "execution_count": 7,
   "metadata": {},
   "outputs": [
    {
     "name": "stdout",
     "output_type": "stream",
     "text": [
      "['UK', 'Australia', 'China']\n",
      "['UK', 'China']\n"
     ]
    }
   ],
   "source": [
    "print(countries)\n",
    "del(countries[1]) # remember that list starts with [0]\n",
    "print(countries)"
   ]
  },
  {
   "cell_type": "code",
   "execution_count": 8,
   "metadata": {},
   "outputs": [
    {
     "name": "stdout",
     "output_type": "stream",
     "text": [
      "China\n"
     ]
    }
   ],
   "source": [
    "print(countries[-1])\n",
    "# the last value in the list can be accessed with -1"
   ]
  },
  {
   "cell_type": "code",
   "execution_count": 9,
   "metadata": {},
   "outputs": [
    {
     "ename": "IndexError",
     "evalue": "list index out of range",
     "output_type": "error",
     "traceback": [
      "\u001b[1;31m---------------------------------------------------------------------------\u001b[0m",
      "\u001b[1;31mIndexError\u001b[0m                                Traceback (most recent call last)",
      "Cell \u001b[1;32mIn[9], line 1\u001b[0m\n\u001b[1;32m----> 1\u001b[0m \u001b[38;5;28mprint\u001b[39m(\u001b[43mcountries\u001b[49m\u001b[43m[\u001b[49m\u001b[38;5;241;43m-\u001b[39;49m\u001b[38;5;241;43m3\u001b[39;49m\u001b[43m]\u001b[49m)\n",
      "\u001b[1;31mIndexError\u001b[0m: list index out of range"
     ]
    }
   ],
   "source": [
    "print(countries[-3])"
   ]
  },
  {
   "cell_type": "code",
   "execution_count": 10,
   "metadata": {},
   "outputs": [
    {
     "name": "stdout",
     "output_type": "stream",
     "text": [
      "['apple', 3, '10', [4, 5]]\n"
     ]
    }
   ],
   "source": [
    "names=[ \"apple\", 3, \"10\",[4,5]] # list can include different types of data\n",
    "print(names)"
   ]
  },
  {
   "cell_type": "code",
   "execution_count": null,
   "metadata": {},
   "outputs": [],
   "source": [
    "# Practice: create a list contains 4 items\n",
    "# print out the third value in the list\n",
    "# print out the third value from the last \n",
    "food=['pizza','pasta','noodles','rolls']\n",
    "print(food[2])\n",
    "print(food[-3])\n"
   ]
  },
  {
   "cell_type": "markdown",
   "metadata": {},
   "source": [
    "***List methods***  \n",
    "methods are associated with an object, they are called using dot notation  \n",
    "\n",
    "List Methods:     \n",
    "  \n",
    "list.append()  \n",
    "list.pop()   \n",
    "list.insert()  \n",
    "list.sort()  "
   ]
  },
  {
   "cell_type": "code",
   "execution_count": 11,
   "metadata": {},
   "outputs": [
    {
     "name": "stdout",
     "output_type": "stream",
     "text": [
      "['UK', 'Australia', 'China']\n",
      "['UK', 'Australia', 'China', 'Spain']\n"
     ]
    }
   ],
   "source": [
    "countries=[\"UK\",\"Australia\",\"China\"]\n",
    "print(countries)\n",
    "countries.append(\"Spain\")\n",
    "print(countries)"
   ]
  },
  {
   "cell_type": "code",
   "execution_count": 12,
   "metadata": {},
   "outputs": [
    {
     "name": "stdout",
     "output_type": "stream",
     "text": [
      "['UK', 'Australia', 'China', 'Spain']\n",
      "['UK', 'Australia', 'China']\n"
     ]
    }
   ],
   "source": [
    "print(countries)\n",
    "countries.pop()\n",
    "print(countries)"
   ]
  },
  {
   "cell_type": "code",
   "execution_count": 13,
   "metadata": {},
   "outputs": [
    {
     "name": "stdout",
     "output_type": "stream",
     "text": [
      "['UK', 'Australia', 'China']\n",
      "['UK', 'China']\n"
     ]
    }
   ],
   "source": [
    "print(countries)\n",
    "countries.pop(1)\n",
    "print(countries)"
   ]
  },
  {
   "cell_type": "code",
   "execution_count": 14,
   "metadata": {},
   "outputs": [
    {
     "name": "stdout",
     "output_type": "stream",
     "text": [
      "['UK', 'China']\n",
      "['UK', 'Italy', 'China']\n"
     ]
    }
   ],
   "source": [
    "print(countries)\n",
    "countries.insert(1,\"Italy\")\n",
    "print(countries)"
   ]
  },
  {
   "cell_type": "code",
   "execution_count": 15,
   "metadata": {},
   "outputs": [
    {
     "name": "stdout",
     "output_type": "stream",
     "text": [
      "['China', 'Italy', 'UK']\n"
     ]
    }
   ],
   "source": [
    "countries.sort() # sort the values in the list alphabetically\n",
    "print(countries)"
   ]
  },
  {
   "cell_type": "code",
   "execution_count": 20,
   "metadata": {},
   "outputs": [
    {
     "name": "stdout",
     "output_type": "stream",
     "text": [
      "[56, 34, 23, 12]\n"
     ]
    }
   ],
   "source": [
    "ages=[12,34,23,56]\n",
    "ages.sort() # sort the numbers in a list ascendingly \n",
    "print(ages)"
   ]
  },
  {
   "cell_type": "code",
   "execution_count": 21,
   "metadata": {},
   "outputs": [
    {
     "name": "stdout",
     "output_type": "stream",
     "text": [
      "['Monday', 'Sunday', 'Tuesday', 'Wednesday', 'Thursday', 'Friday']\n",
      "['Monday', 'Sunday', 'Tuesday', 'Wednesday', 'Thursday']\n",
      "['Monday', 'Saturday', 'Sunday', 'Thursday', 'Tuesday', 'Wednesday']\n"
     ]
    }
   ],
   "source": [
    "# practice: create a list with 5 items. print out the list. \n",
    "# insert an item into the list. remove the last item in the list. then append an item at the end of the list.\n",
    "# lastly, sort the items in the list. \n",
    "# print out the final list. \n",
    "weekdays=['Monday','Tuesday','Wednesday','Thursday','Friday']\n",
    "weekdays.insert(1,'Sunday')\n",
    "print(weekdays)\n",
    "weekdays.pop()\n",
    "print(weekdays)\n",
    "weekdays.append('Saturday')\n",
    "weekdays.sort()\n",
    "print(weekdays)"
   ]
  },
  {
   "cell_type": "markdown",
   "metadata": {},
   "source": [
    "***Iterating List***"
   ]
  },
  {
   "cell_type": "code",
   "execution_count": 22,
   "metadata": {},
   "outputs": [
    {
     "name": "stdout",
     "output_type": "stream",
     "text": [
      "24000\n"
     ]
    }
   ],
   "source": [
    "salary =[5000, 6000, 4000,3400,5600]\n",
    "total=0\n",
    "for i in salary:\n",
    "    total+= i \n",
    "print(total)"
   ]
  },
  {
   "cell_type": "code",
   "execution_count": null,
   "metadata": {},
   "outputs": [],
   "source": [
    "salary =[5000, 6000, 4000,3400,5600]\n",
    "total=0\n",
    "for i in salary:\n",
    "    total+= i \n",
    "    print(total) # the indentation is differnt from the code above "
   ]
  },
  {
   "cell_type": "code",
   "execution_count": null,
   "metadata": {},
   "outputs": [],
   "source": [
    "# practice:  create a list containing 4 numbers\n",
    "# iterate through the list and find out the total of all numbers in the list\n",
    "\n",
    "\n",
    "\n"
   ]
  },
  {
   "cell_type": "markdown",
   "metadata": {},
   "source": [
    "***Important Properties of List***  \n",
    "\n",
    "If you copy a list using the = sign, the copied list will be updated if the original list is updated. \n",
    "\n",
    "This is different from variables. When copying a variable, the copied variable remain unchanged when the original variable is updated. "
   ]
  },
  {
   "cell_type": "code",
   "execution_count": 23,
   "metadata": {},
   "outputs": [
    {
     "name": "stdout",
     "output_type": "stream",
     "text": [
      "[10, 2, 3, 4]\n",
      "[10, 2, 3, 4]\n"
     ]
    }
   ],
   "source": [
    "number_1=[1,2,3,4]\n",
    "number_2=number_1  # number_2 copies number_1 use = sign \n",
    "number_1[0]=10     # update the first number in number_1 \n",
    "\n",
    "print (number_1)\n",
    "print(number_2)"
   ]
  },
  {
   "cell_type": "code",
   "execution_count": 24,
   "metadata": {},
   "outputs": [
    {
     "name": "stdout",
     "output_type": "stream",
     "text": [
      "a= 50\n",
      "b= 100\n"
     ]
    }
   ],
   "source": [
    "a=100\n",
    "b=a\n",
    "a= 50\n",
    "print (\"a=\", a)\n",
    "print (\"b=\", b) # b remains unchanged, when a is updated."
   ]
  },
  {
   "cell_type": "markdown",
   "metadata": {},
   "source": [
    "**You can use list.copy() to copy a list, then copied list will not be impacted when original list is updated.**  \n",
    "( If the original list contains only numbers and strings, this holds true.  \n",
    "If the original list contains other lists, dictionaries, etc we will need to use other methods. )"
   ]
  },
  {
   "cell_type": "code",
   "execution_count": 25,
   "metadata": {},
   "outputs": [
    {
     "name": "stdout",
     "output_type": "stream",
     "text": [
      "['B', 'C', 'D', 'E']\n",
      "['A', 'B', 'C', 'D', 'E']\n"
     ]
    }
   ],
   "source": [
    "letters = [\"A\",\"B\",\"C\",\"D\",\"E\"]\n",
    "copy_of_letters = letters.copy()\n",
    "del(letters[0])\n",
    "print(letters)\n",
    "print(copy_of_letters)"
   ]
  },
  {
   "cell_type": "markdown",
   "metadata": {},
   "source": [
    "***Slicing Lists***  \n",
    "  \n",
    "  list[start:end]"
   ]
  },
  {
   "cell_type": "code",
   "execution_count": null,
   "metadata": {},
   "outputs": [],
   "source": [
    "letters = [\"A\",\"B\",\"C\",\"D\",\"E\"]\n",
    "letters[1:3] # list are 0 indexed, the item at the end position (index 3 in this case) will not be included\n",
    "# Python uses half-open intervals (also known as half-open ranges) for list slicing, \n",
    "# meaning the slice includes the start index but excludes the end index. \n",
    "# So, the slice letters[start:end] includes items from start to end-1."
   ]
  },
  {
   "cell_type": "code",
   "execution_count": 26,
   "metadata": {},
   "outputs": [
    {
     "name": "stdout",
     "output_type": "stream",
     "text": [
      "['B', 'C', 'D', 'E']\n"
     ]
    },
    {
     "data": {
      "text/plain": [
       "['C', 'D', 'E']"
      ]
     },
     "execution_count": 26,
     "metadata": {},
     "output_type": "execute_result"
    }
   ],
   "source": [
    "print(letters)\n",
    "letters[1:] \n",
    "#if we do not specify the end index when slicing a list, \n",
    "# it will include all elements from the starting index to the last item."
   ]
  },
  {
   "cell_type": "code",
   "execution_count": 27,
   "metadata": {},
   "outputs": [
    {
     "name": "stdout",
     "output_type": "stream",
     "text": [
      "['B', 'C', 'D', 'E']\n"
     ]
    },
    {
     "data": {
      "text/plain": [
       "['B', 'C', 'D']"
      ]
     },
     "execution_count": 27,
     "metadata": {},
     "output_type": "execute_result"
    }
   ],
   "source": [
    "print(letters)\n",
    "letters[:3] # from the first item to the item at indexed 2 "
   ]
  },
  {
   "cell_type": "code",
   "execution_count": 28,
   "metadata": {},
   "outputs": [
    {
     "name": "stdout",
     "output_type": "stream",
     "text": [
      "['B', 'C', 'D', 'E']\n"
     ]
    },
    {
     "data": {
      "text/plain": [
       "['C', 'D']"
      ]
     },
     "execution_count": 28,
     "metadata": {},
     "output_type": "execute_result"
    }
   ],
   "source": [
    "print(letters)\n",
    "letters[1:-1]"
   ]
  },
  {
   "cell_type": "markdown",
   "metadata": {},
   "source": [
    "When using slicing to copy a list, the copied list will not be impacted if the original list is updated.  \n",
    "( If the original list contains only numbers and strings, this holds true.  \n",
    "If the original list contains other lists, dictionaries, etc we will need to use other methods. )"
   ]
  },
  {
   "cell_type": "code",
   "execution_count": 29,
   "metadata": {},
   "outputs": [
    {
     "name": "stdout",
     "output_type": "stream",
     "text": [
      "[10, 'B', 'C', 'D', 'E']\n",
      "['A', 'B', 'C', 'D', 'E']\n"
     ]
    }
   ],
   "source": [
    "# copy the entire list\n",
    "letters = [\"A\",\"B\",\"C\",\"D\",\"E\"]\n",
    "letters2 = letters[:]\n",
    "\n",
    "#update letters\n",
    "letters[0]=10\n",
    "\n",
    "print(letters)\n",
    "print(letters2)"
   ]
  },
  {
   "cell_type": "code",
   "execution_count": 30,
   "metadata": {},
   "outputs": [
    {
     "name": "stdout",
     "output_type": "stream",
     "text": [
      "['B', 'C', 'D', 'E']\n",
      "['A', 'B', 'C', 'D', 'E']\n"
     ]
    }
   ],
   "source": [
    "letters = [\"A\",\"B\",\"C\",\"D\",\"E\"]\n",
    "letters2 = letters[:]\n",
    "del(letters[0]) # del can delete items in a list\n",
    "print(letters)\n",
    "print(letters2)\n"
   ]
  },
  {
   "cell_type": "code",
   "execution_count": null,
   "metadata": {},
   "outputs": [],
   "source": [
    "# Practice:\n",
    "# Create a list that includes four of your favorite foods.\n",
    "# Make a copy of the list that will not be affected when the original list is updated.\n",
    "# Remove the second and third items from the original list.\n",
    "# Print out both the original list and the copied list.\n",
    "khana=['pasta','pizza','biryani','nihari']\n",
    "khana_1=khana[:]\n",
    "del(khana[1])\n",
    "del(khana[2])\n",
    "print(khana)\n",
    "print(khana_1)"
   ]
  },
  {
   "cell_type": "code",
   "execution_count": 31,
   "metadata": {},
   "outputs": [
    {
     "name": "stdout",
     "output_type": "stream",
     "text": [
      "['watermelon', 'soup']\n",
      "['watermelon', 'fish', 'shrimp', 'soup']\n"
     ]
    }
   ],
   "source": [
    "# you can aslo use list.copy()\n",
    "food=[\"watermelon\",\"fish\",\"shrimp\",\"soup\"]\n",
    "food2 = food.copy()\n",
    "del(food[1:3])\n",
    "print(food)\n",
    "print(food2)"
   ]
  },
  {
   "cell_type": "markdown",
   "metadata": {},
   "source": [
    "**in list**"
   ]
  },
  {
   "cell_type": "code",
   "execution_count": 32,
   "metadata": {},
   "outputs": [
    {
     "name": "stdout",
     "output_type": "stream",
     "text": [
      "True\n"
     ]
    }
   ],
   "source": [
    "letters=[\"a\",\"b\",\"c\",\"d\",\"e\"]\n",
    "print (\"a\" in letters)"
   ]
  },
  {
   "cell_type": "code",
   "execution_count": 33,
   "metadata": {},
   "outputs": [
    {
     "name": "stdout",
     "output_type": "stream",
     "text": [
      "False\n"
     ]
    }
   ],
   "source": [
    "print(\"z\" in letters)"
   ]
  },
  {
   "cell_type": "code",
   "execution_count": 34,
   "metadata": {},
   "outputs": [
    {
     "name": "stdout",
     "output_type": "stream",
     "text": [
      "True\n"
     ]
    }
   ],
   "source": [
    "print( \"z\" not in letters)"
   ]
  },
  {
   "cell_type": "markdown",
   "metadata": {},
   "source": [
    "***Nested Lists***\n"
   ]
  },
  {
   "cell_type": "code",
   "execution_count": 35,
   "metadata": {},
   "outputs": [
    {
     "name": "stdout",
     "output_type": "stream",
     "text": [
      "[['US', 'Canada'], [32, 23, 'US'], [1, 2, 3, 4, 5]]\n"
     ]
    }
   ],
   "source": [
    "records = [\n",
    "    [\"US\",\"Canada\"],\n",
    "    [32,23,\"US\"],\n",
    "    [1,2,3,4,5]\n",
    "]\n",
    "print(records)"
   ]
  },
  {
   "cell_type": "code",
   "execution_count": 36,
   "metadata": {},
   "outputs": [
    {
     "data": {
      "text/plain": [
       "'Canada'"
      ]
     },
     "execution_count": 36,
     "metadata": {},
     "output_type": "execute_result"
    }
   ],
   "source": [
    "records[0][1]"
   ]
  },
  {
   "cell_type": "code",
   "execution_count": 37,
   "metadata": {},
   "outputs": [
    {
     "data": {
      "text/plain": [
       "3"
      ]
     },
     "execution_count": 37,
     "metadata": {},
     "output_type": "execute_result"
    }
   ],
   "source": [
    "nested_list = [\n",
    "    [1, 2, [3, 4, 5], 6],\n",
    "    [7, [8, 9]],\n",
    "    [10, [11, [12, 13, 14]], 15],\n",
    "    [16]\n",
    "]\n",
    "nested_list[0][2][0]"
   ]
  },
  {
   "cell_type": "code",
   "execution_count": 38,
   "metadata": {},
   "outputs": [
    {
     "data": {
      "text/plain": [
       "'banana'"
      ]
     },
     "execution_count": 38,
     "metadata": {},
     "output_type": "execute_result"
    }
   ],
   "source": [
    "orders = [\n",
    "    [\"egg\", \"milk\", \"bread\", \"cheese\"],\n",
    "    [\"potato\", \"onion\", \"carrot\"],\n",
    "    [\"apple\", \"banana\"],\n",
    "    [\"chicken\", \"rice\", \"tomato\", \"garlic\", \"oil\"],\n",
    "    [\"coffee\"],\n",
    "    [\"pizza\", \"soda\", \"wings\"],\n",
    "    [\"fish\", \"lemon\", \"butter\", \"herbs\"],\n",
    "    [\"cereal\", \"milk\", \"sugar\"],\n",
    "    [\"pasta\", \"sauce\", \"cheese\", \"basil\", \"garlic\", \"olive oil\"],\n",
    "    [\"tea\"]\n",
    "]\n",
    "\n",
    "# practice: access the second item in the third oder\n",
    "\n",
    "orders[2][1]"
   ]
  },
  {
   "cell_type": "code",
   "execution_count": 39,
   "metadata": {},
   "outputs": [
    {
     "data": {
      "text/plain": [
       "['tea']"
      ]
     },
     "execution_count": 39,
     "metadata": {},
     "output_type": "execute_result"
    }
   ],
   "source": [
    "#practice: access the last order\n",
    "orders[-1]"
   ]
  },
  {
   "cell_type": "code",
   "execution_count": 40,
   "metadata": {},
   "outputs": [
    {
     "data": {
      "text/plain": [
       "[['potato', 'onion', 'carrot'],\n",
       " ['apple', 'banana'],\n",
       " ['chicken', 'rice', 'tomato', 'garlic', 'oil'],\n",
       " ['coffee']]"
      ]
     },
     "execution_count": 40,
     "metadata": {},
     "output_type": "execute_result"
    }
   ],
   "source": [
    "#practice: access the seond to the fifth order\n",
    "orders[1:5]"
   ]
  },
  {
   "cell_type": "markdown",
   "metadata": {},
   "source": [
    "***Functions***"
   ]
  },
  {
   "cell_type": "code",
   "execution_count": 41,
   "metadata": {},
   "outputs": [
    {
     "name": "stdout",
     "output_type": "stream",
     "text": [
      "hahahahahahahahahaha\n"
     ]
    }
   ],
   "source": [
    "def time_10(word):                       #time_10 is the name of the function, word is the argument \n",
    "    print(word*10)\n",
    "\n",
    "time_10(\"ha\")                     # call the function with the name of the function, and provide the value of the argument"
   ]
  },
  {
   "cell_type": "code",
   "execution_count": 42,
   "metadata": {},
   "outputs": [
    {
     "name": "stdout",
     "output_type": "stream",
     "text": [
      "100\n"
     ]
    }
   ],
   "source": [
    "time_10(10)"
   ]
  },
  {
   "cell_type": "code",
   "execution_count": 43,
   "metadata": {},
   "outputs": [
    {
     "ename": "NameError",
     "evalue": "name 'word' is not defined",
     "output_type": "error",
     "traceback": [
      "\u001b[1;31m---------------------------------------------------------------------------\u001b[0m",
      "\u001b[1;31mNameError\u001b[0m                                 Traceback (most recent call last)",
      "Cell \u001b[1;32mIn[43], line 1\u001b[0m\n\u001b[1;32m----> 1\u001b[0m \u001b[38;5;28mprint\u001b[39m(\u001b[43mword\u001b[49m)    \u001b[38;5;66;03m# word is only avalible within the function.\u001b[39;00m\n",
      "\u001b[1;31mNameError\u001b[0m: name 'word' is not defined"
     ]
    }
   ],
   "source": [
    "print(word)    # word is only avalible within the function."
   ]
  },
  {
   "cell_type": "code",
   "execution_count": 44,
   "metadata": {},
   "outputs": [
    {
     "name": "stdout",
     "output_type": "stream",
     "text": [
      "Hello Alice!\n"
     ]
    }
   ],
   "source": [
    "def greet(name):                         # greet is the name of the function , name is a argument \n",
    "    message =\"Hello\"+\" \"+name+\"!\"\n",
    "    print(message)\n",
    "\n",
    "greet(\"Alice\")"
   ]
  },
  {
   "cell_type": "code",
   "execution_count": 45,
   "metadata": {},
   "outputs": [
    {
     "name": "stdout",
     "output_type": "stream",
     "text": [
      "Hello Harry!\n"
     ]
    }
   ],
   "source": [
    "greet (\"Harry\")"
   ]
  },
  {
   "cell_type": "code",
   "execution_count": 46,
   "metadata": {},
   "outputs": [
    {
     "data": {
      "text/plain": [
       "80.2"
      ]
     },
     "execution_count": 46,
     "metadata": {},
     "output_type": "execute_result"
    }
   ],
   "source": [
    "def calculate_mean (numbers):\n",
    "    return sum(numbers)/len(numbers)    #sum() and len() only work for numebrs\n",
    "\n",
    "\n",
    "scores=[89,90,54,89,79]\n",
    "calculate_mean (scores)"
   ]
  },
  {
   "cell_type": "code",
   "execution_count": 47,
   "metadata": {},
   "outputs": [
    {
     "ename": "TypeError",
     "evalue": "unsupported operand type(s) for +: 'int' and 'str'",
     "output_type": "error",
     "traceback": [
      "\u001b[1;31m---------------------------------------------------------------------------\u001b[0m",
      "\u001b[1;31mTypeError\u001b[0m                                 Traceback (most recent call last)",
      "Cell \u001b[1;32mIn[47], line 2\u001b[0m\n\u001b[0;32m      1\u001b[0m data\u001b[38;5;241m=\u001b[39m[\u001b[38;5;124m\"\u001b[39m\u001b[38;5;124mUS\u001b[39m\u001b[38;5;124m\"\u001b[39m,\u001b[38;5;124m\"\u001b[39m\u001b[38;5;124mCanada\u001b[39m\u001b[38;5;124m\"\u001b[39m]\n\u001b[1;32m----> 2\u001b[0m \u001b[43mcalculate_mean\u001b[49m\u001b[43m \u001b[49m\u001b[43m(\u001b[49m\u001b[43mdata\u001b[49m\u001b[43m)\u001b[49m\n",
      "Cell \u001b[1;32mIn[46], line 2\u001b[0m, in \u001b[0;36mcalculate_mean\u001b[1;34m(numbers)\u001b[0m\n\u001b[0;32m      1\u001b[0m \u001b[38;5;28;01mdef\u001b[39;00m\u001b[38;5;250m \u001b[39m\u001b[38;5;21mcalculate_mean\u001b[39m (numbers):\n\u001b[1;32m----> 2\u001b[0m     \u001b[38;5;28;01mreturn\u001b[39;00m \u001b[38;5;28;43msum\u001b[39;49m\u001b[43m(\u001b[49m\u001b[43mnumbers\u001b[49m\u001b[43m)\u001b[49m\u001b[38;5;241m/\u001b[39m\u001b[38;5;28mlen\u001b[39m(numbers)\n",
      "\u001b[1;31mTypeError\u001b[0m: unsupported operand type(s) for +: 'int' and 'str'"
     ]
    }
   ],
   "source": [
    "data=[\"US\",\"Canada\"]\n",
    "calculate_mean (data)"
   ]
  },
  {
   "cell_type": "code",
   "execution_count": 49,
   "metadata": {},
   "outputs": [],
   "source": [
    "def calculate_mean2 (numbers):\n",
    "    sum(numbers)/len(numbers)     # if you don't add return here, nothing will be returned \n",
    "\n",
    "scores=[89,90,54,89,79]\n",
    "calculate_mean2 (scores)"
   ]
  },
  {
   "cell_type": "code",
   "execution_count": 50,
   "metadata": {},
   "outputs": [
    {
     "name": "stdout",
     "output_type": "stream",
     "text": [
      "None\n"
     ]
    }
   ],
   "source": [
    "print(calculate_mean2 (scores))"
   ]
  },
  {
   "cell_type": "code",
   "execution_count": 51,
   "metadata": {},
   "outputs": [
    {
     "name": "stdout",
     "output_type": "stream",
     "text": [
      "NewYork\n"
     ]
    }
   ],
   "source": [
    "def paste_words (w1,w2):       # A function can have multiple arguments\n",
    "    print ( w1 + w2)\n",
    "\n",
    "paste_words(\"New\",\"York\")"
   ]
  },
  {
   "cell_type": "code",
   "execution_count": 52,
   "metadata": {},
   "outputs": [
    {
     "name": "stdout",
     "output_type": "stream",
     "text": [
      "NewYork\n"
     ]
    }
   ],
   "source": [
    "paste_words(w2=\"York\",w1=\"New\")"
   ]
  },
  {
   "cell_type": "code",
   "execution_count": null,
   "metadata": {},
   "outputs": [],
   "source": [
    "# you can indicate default values \n",
    "def paste_words2 (w1=\"hello\", w2=\"world\"):     # w1 and w2 have default values\n",
    "    print (w1+w2)                              \n",
    "\n",
    "paste_words2()      # when no argument is provided,the function will use default values\n"
   ]
  },
  {
   "cell_type": "code",
   "execution_count": 53,
   "metadata": {},
   "outputs": [
    {
     "ename": "NameError",
     "evalue": "name 'paste_words2' is not defined",
     "output_type": "error",
     "traceback": [
      "\u001b[1;31m---------------------------------------------------------------------------\u001b[0m",
      "\u001b[1;31mNameError\u001b[0m                                 Traceback (most recent call last)",
      "Cell \u001b[1;32mIn[53], line 1\u001b[0m\n\u001b[1;32m----> 1\u001b[0m \u001b[43mpaste_words2\u001b[49m (w2\u001b[38;5;241m=\u001b[39m\u001b[38;5;124m\"\u001b[39m\u001b[38;5;124mNY\u001b[39m\u001b[38;5;124m\"\u001b[39m)      \u001b[38;5;66;03m# if you only pass w2, w1 will be the default value for w1\u001b[39;00m\n",
      "\u001b[1;31mNameError\u001b[0m: name 'paste_words2' is not defined"
     ]
    }
   ],
   "source": [
    "paste_words2 (w2=\"NY\")      # if you only pass w2, w1 will be the default value for w1"
   ]
  },
  {
   "cell_type": "code",
   "execution_count": 54,
   "metadata": {},
   "outputs": [
    {
     "name": "stdout",
     "output_type": "stream",
     "text": [
      "10\n"
     ]
    }
   ],
   "source": [
    "# the return keyword also alllows you to stop the execution of the funciton \n",
    "\n",
    "def print_sum (num1, num2):\n",
    "    sum=num1+num2                    \n",
    "    if(sum==0):                        \n",
    "        return\n",
    "    print (sum)\n",
    "\n",
    "print_sum (4,6)\n"
   ]
  },
  {
   "cell_type": "code",
   "execution_count": 55,
   "metadata": {},
   "outputs": [],
   "source": [
    "print_sum(1,-1)  # in this case, sum==0,the function returned and did not execute the print()"
   ]
  }
 ],
 "metadata": {
  "kernelspec": {
   "display_name": "Python 3",
   "language": "python",
   "name": "python3"
  },
  "language_info": {
   "codemirror_mode": {
    "name": "ipython",
    "version": 3
   },
   "file_extension": ".py",
   "mimetype": "text/x-python",
   "name": "python",
   "nbconvert_exporter": "python",
   "pygments_lexer": "ipython3",
   "version": "3.13.1"
  }
 },
 "nbformat": 4,
 "nbformat_minor": 2
}
