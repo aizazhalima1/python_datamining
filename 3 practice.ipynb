{
 "cells": [
  {
   "cell_type": "code",
   "execution_count": 5,
   "metadata": {},
   "outputs": [
    {
     "name": "stdout",
     "output_type": "stream",
     "text": [
      "['apple', 'oranges']\n",
      "['apple', 'oranges', 'cereal']\n",
      "['apple', 'oranges', 'pudding', 'cereal']\n"
     ]
    }
   ],
   "source": [
    "# 1. Remove the first item from the list. \n",
    "# Append an item at the end of this list. \n",
    "# Then, insert an item at index 2. \n",
    "# Print out the final list\n",
    "\n",
    "shopping =[\"milk\",\"apple\",\"oranges\"]\n",
    "shopping.pop(0)\n",
    "shopping.append('cereal')\n",
    "shopping.insert(2,\"pudding\")\n",
    "print(shopping)\n",
    "\n",
    "\n"
   ]
  },
  {
   "cell_type": "code",
   "execution_count": 10,
   "metadata": {},
   "outputs": [
    {
     "name": "stdout",
     "output_type": "stream",
     "text": [
      "Your coffee is ready Fred\n",
      "Your coffee is ready Marry\n",
      "Your coffee is ready Jack\n",
      "Your coffee is ready Sandy\n"
     ]
    }
   ],
   "source": [
    "# 2. create a list containing 4 names\n",
    "# print out \"Your coffee is read\" + name. \n",
    "# print out this for each names in the list.\n",
    "\n",
    "names=['Fred','Marry','Jack','Sandy']\n",
    "for i in names:\n",
    "    print('Your coffee is ready', i)\n",
    "\n",
    "\n",
    "    \n"
   ]
  },
  {
   "cell_type": "code",
   "execution_count": 14,
   "metadata": {},
   "outputs": [
    {
     "name": "stdout",
     "output_type": "stream",
     "text": [
      "The square of 3 is 9\n",
      "The square of 5 is 25\n",
      "The square of 7 is 49\n",
      "The square of 9 is 81\n",
      "The square of 11 is 121\n"
     ]
    }
   ],
   "source": [
    "# 3. Create a list containing 5 numbers.\n",
    "# For each number in the list, print: \"The square of [number] is [square of the number]\".\n",
    "\n",
    "# expected outcome : \n",
    "# The square of 1 is 1\n",
    "# The square of 2 is 4 ...\n",
    "\n",
    "num=[3,5,7,9,11]\n",
    "for i in num:\n",
    "    print('The square of',i,'is',i**2)\n",
    "\n"
   ]
  },
  {
   "cell_type": "code",
   "execution_count": 16,
   "metadata": {},
   "outputs": [
    {
     "data": {
      "text/plain": [
       "['tea']"
      ]
     },
     "execution_count": 16,
     "metadata": {},
     "output_type": "execute_result"
    }
   ],
   "source": [
    "# 4. \n",
    "orders = [\n",
    "    [\"egg\", \"milk\", \"bread\", \"cheese\"],\n",
    "    [\"potato\", \"onion\", \"carrot\"],\n",
    "    [\"apple\", \"banana\"],\n",
    "    [\"chicken\", \"rice\", \"tomato\", \"garlic\", \"oil\"],\n",
    "    [\"coffee\"],\n",
    "    [\"pizza\", \"soda\", \"wings\"],\n",
    "    [\"fish\", \"lemon\", \"butter\", \"herbs\"],\n",
    "    [\"cereal\", \"milk\", \"sugar\"],\n",
    "    [\"pasta\", \"sauce\", \"cheese\", \"basil\", \"garlic\", \"olive oil\"],\n",
    "    [\"tea\"]\n",
    "]\n",
    "\n",
    "# access the third item on the first order\n",
    "# access the last item on the last order\n",
    "orders[0][2]\n",
    "orders[-1]\n"
   ]
  }
 ],
 "metadata": {
  "kernelspec": {
   "display_name": "Python 3",
   "language": "python",
   "name": "python3"
  },
  "language_info": {
   "codemirror_mode": {
    "name": "ipython",
    "version": 3
   },
   "file_extension": ".py",
   "mimetype": "text/x-python",
   "name": "python",
   "nbconvert_exporter": "python",
   "pygments_lexer": "ipython3",
   "version": "3.13.1"
  }
 },
 "nbformat": 4,
 "nbformat_minor": 2
}
