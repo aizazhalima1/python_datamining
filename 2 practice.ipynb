{
 "cells": [
  {
   "cell_type": "code",
   "execution_count": 4,
   "metadata": {},
   "outputs": [
    {
     "name": "stdout",
     "output_type": "stream",
     "text": [
      "The number is positive\n"
     ]
    }
   ],
   "source": [
    "#1. Write a Python program that checks if a number is positive.\n",
    "# If the number is greater than 0, print \"The number is positive.\"\n",
    "# Otherwise, print \"The number is not positive.\"\n",
    "\n",
    "number = 4  # You can change this value to test\n",
    "if(number>0):\n",
    "    print('The number is positive')\n",
    "else:\n",
    "    print('The number is not positive')\n"
   ]
  },
  {
   "cell_type": "code",
   "execution_count": 6,
   "metadata": {},
   "outputs": [
    {
     "name": "stdout",
     "output_type": "stream",
     "text": [
      "It\"s a hot day!\n"
     ]
    }
   ],
   "source": [
    "# 2. Write a program that checks the temperature and prints a message based on the value:\n",
    "# If the temperature is above 30°C, print \"It's a hot day!\"\n",
    "# If the temperature is between 15°C and 30°C, print \"The weather is nice.\"\n",
    "# Otherwise, print \"It's a cold day!\"\n",
    "\n",
    "temperature = 35  # You can change this value to test\n",
    "if(temperature > 30):\n",
    "    print('It\"s a hot day!')\n",
    "elif(temperature > 15):\n",
    "    print('The weather is nice.')\n",
    "else:\n",
    "    print('It\"s a cold day!')\n",
    "          \n",
    "\n",
    "\n"
   ]
  },
  {
   "cell_type": "code",
   "execution_count": 7,
   "metadata": {},
   "outputs": [
    {
     "name": "stdout",
     "output_type": "stream",
     "text": [
      "10\n",
      "5.0\n",
      "2.5\n",
      "1.25\n",
      "Loop complete!\n"
     ]
    }
   ],
   "source": [
    "# 3.  Write a Python program that starts with num = 10 and keeps halving it until it is less than 1.\n",
    "# Print the value of num in each step.\n",
    "# When the loop ends, print \"Loop complete!\".\n",
    "num=10\n",
    "while(num>1):\n",
    "    print(num)\n",
    "    num=num/2\n",
    "else:\n",
    "    print('Loop complete!')\n",
    "\n",
    "\n"
   ]
  },
  {
   "cell_type": "code",
   "execution_count": 9,
   "metadata": {},
   "outputs": [
    {
     "name": "stdout",
     "output_type": "stream",
     "text": [
      "3\n",
      "4\n",
      "5\n",
      "6\n",
      "7\n"
     ]
    }
   ],
   "source": [
    "# 4. Write a Python program that prints numbers from 3 to 7 using a for loop.\n",
    "for i in range(3,8):\n",
    "    print(i)\n",
    "    i+=1\n"
   ]
  }
 ],
 "metadata": {
  "kernelspec": {
   "display_name": "Python 3",
   "language": "python",
   "name": "python3"
  },
  "language_info": {
   "codemirror_mode": {
    "name": "ipython",
    "version": 3
   },
   "file_extension": ".py",
   "mimetype": "text/x-python",
   "name": "python",
   "nbconvert_exporter": "python",
   "pygments_lexer": "ipython3",
   "version": "3.13.1"
  }
 },
 "nbformat": 4,
 "nbformat_minor": 2
}
